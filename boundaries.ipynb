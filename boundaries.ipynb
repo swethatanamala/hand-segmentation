{
 "cells": [
  {
   "cell_type": "code",
   "execution_count": 47,
   "id": "9f1911ed",
   "metadata": {},
   "outputs": [],
   "source": [
    "import cv2\n",
    "import os\n",
    "import numpy as np\n",
    "from glob import glob\n",
    "from tqdm import tqdm\n",
    "from skimage import segmentation\n",
    "from matplotlib import pyplot as plt"
   ]
  },
  {
   "cell_type": "code",
   "execution_count": 58,
   "id": "88d0cd84",
   "metadata": {},
   "outputs": [],
   "source": [
    "dirname = \"One-Pot_Chicken_Fajita_Pasta\"\n",
    "version = \"v5\"\n",
    "img_folder = f\"/home/users/swetha/projects/personal/hand-segmentation/data/test/{dirname}\"\n",
    "mask_folder = f\"/home/users/swetha/projects/personal/hand-segmentation/data/test/{dirname}_mask{version}\""
   ]
  },
  {
   "cell_type": "code",
   "execution_count": 49,
   "id": "9c72c86a",
   "metadata": {},
   "outputs": [
    {
     "name": "stderr",
     "output_type": "stream",
     "text": [
      "1363it [01:56, 11.66it/s]\n"
     ]
    }
   ],
   "source": [
    "# mask_v2 = f\"/home/users/swetha/projects/personal/hand-segmentation/data/test/{dirname}_maskv2\"\n",
    "# masks_v2 = sorted(glob(f\"{mask_v2}/*.npy\"))\n",
    "# mask_v3 = f\"/home/users/swetha/projects/personal/hand-segmentation/data/test/{dirname}_maskv3\"\n",
    "# masks_v3 = sorted(glob(f\"{mask_v3}/*.npy\"))\n",
    "# mask_v4 = f\"/home/users/swetha/projects/personal/hand-segmentation/data/test/{dirname}_maskv4\"\n",
    "# masks_v4 = sorted(glob(f\"{mask_v4}/*.npy\"))\n",
    "# for maskv2, maskv3, maskv4 in tqdm(zip(masks_v2, masks_v3, masks_v4)):\n",
    "#     npv2 = np.load(maskv2)\n",
    "#     npv3 = np.load(maskv3)\n",
    "#     npv4 = np.load(maskv4)\n",
    "#     npv5 = npv2 + npv3 + npv4\n",
    "#     npv5[npv5 < 3] = 0\n",
    "#     npv5[npv5 == 3] = 1\n",
    "#     name = os.path.basename(maskv2)\n",
    "#     dir_ = os.path.dirname(maskv2)[:-len('2')] + '5'\n",
    "#     os.makedirs(dir_, exist_ok=True)\n",
    "#     np.save(os.path.join(dir_, name), npv5)"
   ]
  },
  {
   "cell_type": "code",
   "execution_count": 71,
   "id": "b8f27fc9",
   "metadata": {},
   "outputs": [],
   "source": [
    "images = glob(f\"{img_folder}/*.jpg\")\n",
    "masks = glob(f\"{mask_folder}/*.npy\")\n",
    "img = cv2.imread(images[0])\n",
    "w, h = img.shape[1], img.shape[0]"
   ]
  },
  {
   "cell_type": "code",
   "execution_count": 70,
   "id": "84128c01",
   "metadata": {},
   "outputs": [
    {
     "data": {
      "text/plain": [
       "'v5'"
      ]
     },
     "execution_count": 70,
     "metadata": {},
     "output_type": "execute_result"
    }
   ],
   "source": [
    "version"
   ]
  },
  {
   "cell_type": "code",
   "execution_count": 72,
   "id": "212169d4",
   "metadata": {},
   "outputs": [
    {
     "name": "stderr",
     "output_type": "stream",
     "text": [
      "100%|█████████████████████████████████████████████████████████████████████████████████████████████████████████████████████████████████████████| 1363/1363 [02:16<00:00,  9.98it/s]\n"
     ]
    }
   ],
   "source": [
    "boundaries = f\"data/test/{dirname}_boundaries{version}\"\n",
    "os.makedirs(boundaries, exist_ok=True)\n",
    "for i in tqdm(range(len(images))):\n",
    "    img_path = images[i]\n",
    "    name = os.path.basename(img_path)[:-len('.jpg')]\n",
    "    img = cv2.imread(img_path)\n",
    "    mask = np.load(os.path.join(mask_folder, name + \"_mask.npy\"))\n",
    "    cv2.imwrite(os.path.join(boundaries, name + \"_boundaries.png\"), \n",
    "                segmentation.mark_boundaries(img, mask, mode=\"thick\") * 255)"
   ]
  },
  {
   "cell_type": "code",
   "execution_count": 77,
   "id": "c48475b0",
   "metadata": {},
   "outputs": [],
   "source": [
    "\n",
    "fps = 24\n",
    "output_file = f'data/test/{dirname}_output_video{version}.mp4'\n",
    "fourcc = cv2.VideoWriter_fourcc(*'mp4v')\n",
    "video_writer = cv2.VideoWriter(output_file, fourcc, fps, (w, h))"
   ]
  },
  {
   "cell_type": "code",
   "execution_count": 78,
   "id": "7989c161",
   "metadata": {},
   "outputs": [
    {
     "name": "stderr",
     "output_type": "stream",
     "text": [
      "100%|█████████████████████████████████████████████████████████████████████████████████████████████████████████████████████████████████████████| 1363/1363 [00:31<00:00, 42.66it/s]\n"
     ]
    }
   ],
   "source": [
    "frames = sorted(glob(f\"data/test/{dirname}/*.jpg\"))\n",
    "length = len(frames)\n",
    "for i in tqdm(range(length)):\n",
    "    frame_path = os.path.join(boundaries, f\"frame{str(i)}_boundaries.png\")\n",
    "    frame = cv2.imread(frame_path)\n",
    "    video_writer.write(frame)\n",
    "video_writer.release()"
   ]
  },
  {
   "cell_type": "code",
   "execution_count": 105,
   "id": "f2c4bf22",
   "metadata": {},
   "outputs": [
    {
     "data": {
      "text/plain": [
       "[]"
      ]
     },
     "execution_count": 105,
     "metadata": {},
     "output_type": "execute_result"
    }
   ],
   "source": [
    "frames"
   ]
  },
  {
   "cell_type": "code",
   "execution_count": null,
   "id": "58353a4a",
   "metadata": {},
   "outputs": [],
   "source": []
  }
 ],
 "metadata": {
  "kernelspec": {
   "display_name": "Python 3 (ipykernel)",
   "language": "python",
   "name": "python3"
  },
  "language_info": {
   "codemirror_mode": {
    "name": "ipython",
    "version": 3
   },
   "file_extension": ".py",
   "mimetype": "text/x-python",
   "name": "python",
   "nbconvert_exporter": "python",
   "pygments_lexer": "ipython3",
   "version": "3.9.13"
  }
 },
 "nbformat": 4,
 "nbformat_minor": 5
}
