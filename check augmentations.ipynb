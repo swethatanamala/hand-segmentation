{
 "cells": [
  {
   "cell_type": "code",
   "execution_count": 1,
   "id": "f9399262",
   "metadata": {},
   "outputs": [],
   "source": [
    "import cv2\n",
    "import os\n",
    "from matplotlib import pyplot as plt\n",
    "from src.transforms import RandomBrightnessJitter, RandomSaturationJitter, RandomContrastJitter, RandomGammaJitter, RandomNoise\n",
    "from src.dataset import ConcatHandsDataset, EgoHandsDataset\n",
    "from src import transforms as tsfms\n",
    "from skimage import segmentation\n",
    "from torchvision import transforms\n",
    "import torch"
   ]
  },
  {
   "cell_type": "code",
   "execution_count": 31,
   "id": "0dd49946",
   "metadata": {},
   "outputs": [
    {
     "name": "stderr",
     "output_type": "stream",
     "text": [
      "Creating dataset: 100%|█████████████████████████████████████████████████████████████████████████████████████████████████████████████████████████████| 4/4 [00:00<00:00, 13.38it/s]\n"
     ]
    }
   ],
   "source": [
    "#os.listdir('/cache/datanas1/swetha/egohands_data/_LABELLED_SAMPLES/CARDS_COURTYARD_B_T/')\n",
    "#data_folder = '/cache/datanas1/swetha/egohands_data/'\n",
    "transforms_val = {\n",
    "    \"train\": tsfms.Compose([\n",
    "        #tsfms.RandomBrightnessJitter(1),\n",
    "        #tsfms.RandomSaturationJitter(1),\n",
    "        #tsfms.RandomContrastJitter(1),\n",
    "        #tsfms.RandomIntensityJitter(0.9, 0.9, 0.9),\n",
    "        #tsfms.RandomNoise(0.2),\n",
    "        #tsfms.RandomSizedCrop(512, frac_range=[0.08, 1]),\n",
    "        #tsfms.RandomRotate(30),\n",
    "        tsfms.RandomHorizontalFlip(),\n",
    "        tsfms.Resize((512, 512)),\n",
    "        tsfms.Clip(),\n",
    "        #tsfms.ToTensor(),\n",
    "    ]),\n",
    "    \"val\": tsfms.Compose([\n",
    "        tsfms.Resize((512, 512)),\n",
    "        tsfms.Clip(),\n",
    "        #tsfms.ToTensor()\n",
    "    ])\n",
    "}\n",
    "data_folder = \"/cache/datanas1/swetha/hands_over_face/\"\n",
    "train_dataset = EgoHandsDataset(data_folder, data_limit=None, transforms=transforms_val)\n",
    "# val_dataset = EgoHandsDataset(data_folder, mode='val', data_limit=None, transforms=transforms_val)\n",
    "# data_folder = \"/cache/datanas1/swetha/gtea_gaze_plus/\"\n",
    "# train_dataset = EgoHandsDataset(data_folder, data_limit=None, transforms=transforms_val)\n",
    "# val_dataset = EgoHandsDataset(data_folder, mode='val', data_limit=None, transforms=transforms_val)\n",
    "# data_folder = \"/cache/datanas1/swetha/egohands_data/\"\n",
    "# train_dataset = EgoHandsDataset(data_folder, data_limit=None, transforms=transforms_val)\n",
    "# val_dataset = EgoHandsDataset(data_folder, mode='val', data_limit=None, transforms=transforms_val)\n",
    "# data_folder = \"/cache/datanas1/swetha/hands_over_face/\"\n",
    "# train_dataset = EgoHandsDataset(data_folder, data_limit=None, transforms=transforms_val)\n",
    "# val_dataset = EgoHandsDataset(data_folder, mode='val', data_limit=None, transforms=transforms_val)\n",
    "folders  = [\"gtea\", \"gtea_gaze_plus\", \"egohands_data\", \"hands_over_face\"]\n",
    "train_dataset_concat = ConcatHandsDataset(folders, mode='train')"
   ]
  },
  {
   "cell_type": "code",
   "execution_count": 32,
   "id": "f42ace9d",
   "metadata": {},
   "outputs": [
    {
     "data": {
      "text/plain": [
       "7612"
      ]
     },
     "execution_count": 32,
     "metadata": {},
     "output_type": "execute_result"
    }
   ],
   "source": [
    "len(train_dataset_concat)"
   ]
  },
  {
   "cell_type": "code",
   "execution_count": 33,
   "id": "adebe942",
   "metadata": {},
   "outputs": [
    {
     "data": {
      "text/plain": [
       "2933"
      ]
     },
     "execution_count": 33,
     "metadata": {},
     "output_type": "execute_result"
    }
   ],
   "source": [
    "len(train_dataset)"
   ]
  },
  {
   "cell_type": "code",
   "execution_count": 34,
   "id": "9d8e1d27",
   "metadata": {},
   "outputs": [
    {
     "data": {
      "text/plain": [
       "'/cache/datanas1/swetha/hands_over_face//images/07_RA469_1/frame_240.jpg'"
      ]
     },
     "execution_count": 34,
     "metadata": {},
     "output_type": "execute_result"
    }
   ],
   "source": [
    "train_dataset.all_images[0]"
   ]
  },
  {
   "cell_type": "code",
   "execution_count": null,
   "id": "5369026f",
   "metadata": {},
   "outputs": [],
   "source": [
    "train_dataset[0]"
   ]
  },
  {
   "cell_type": "code",
   "execution_count": null,
   "id": "f353c556",
   "metadata": {},
   "outputs": [],
   "source": [
    "len(train_dataset)"
   ]
  },
  {
   "cell_type": "code",
   "execution_count": null,
   "id": "3c098cd9",
   "metadata": {},
   "outputs": [],
   "source": [
    "jpg_file = \"/cache/datanas1/swetha/gtea_gaze_plus/images/ahmad_burger/0000001143.jpg\"\n",
    "img = cv2.imread(jpg_file)\n",
    "plt.imshow(img)\n",
    "os.path.exists(jpg_file)"
   ]
  },
  {
   "cell_type": "code",
   "execution_count": null,
   "id": "c3377f86",
   "metadata": {},
   "outputs": [],
   "source": [
    "train_dataset"
   ]
  },
  {
   "cell_type": "code",
   "execution_count": null,
   "id": "7bce3e35",
   "metadata": {},
   "outputs": [],
   "source": [
    "train_dataset.all_images[:2]"
   ]
  },
  {
   "cell_type": "code",
   "execution_count": null,
   "id": "a8fd101e",
   "metadata": {},
   "outputs": [],
   "source": [
    "train_dataset.all_masks[:2]"
   ]
  },
  {
   "cell_type": "code",
   "execution_count": null,
   "id": "48b5af78",
   "metadata": {},
   "outputs": [],
   "source": [
    "image, mask = train_dataset[20]\n",
    "plt.imshow(segmentation.mark_boundaries(image, mask, mode='thick'))\n",
    "#plt.imshow(image)"
   ]
  },
  {
   "cell_type": "code",
   "execution_count": null,
   "id": "ae11d762",
   "metadata": {},
   "outputs": [],
   "source": [
    "i = 3\n",
    "plt.imshow(segmentation.mark_boundaries(train_dataset[i][0], train_dataset[i][1], mode='thick'))"
   ]
  },
  {
   "cell_type": "code",
   "execution_count": null,
   "id": "34644b05",
   "metadata": {},
   "outputs": [],
   "source": [
    "plt.imshow(train_dataset[10][1])"
   ]
  },
  {
   "cell_type": "code",
   "execution_count": null,
   "id": "1b8a4e4f",
   "metadata": {},
   "outputs": [],
   "source": [
    "#data_path = '/cache/datanas1/swetha/egohands_data/_LABELLED_SAMPLES/CARDS_COURTYARD_B_T/frame_0011.jpg'\n",
    "#img = cv2.imread(data_path) / 255\n",
    "img = train_dataset[99][0]\n",
    "mod_img = RandomNoise(0.5)(img)"
   ]
  },
  {
   "cell_type": "code",
   "execution_count": null,
   "id": "94e3cd96",
   "metadata": {},
   "outputs": [],
   "source": [
    "plt.imshow(mod_img)"
   ]
  },
  {
   "cell_type": "code",
   "execution_count": null,
   "id": "21fce7ca",
   "metadata": {},
   "outputs": [],
   "source": [
    "plt.imshow(img)"
   ]
  },
  {
   "cell_type": "code",
   "execution_count": null,
   "id": "e7377c40",
   "metadata": {},
   "outputs": [],
   "source": [
    "import numpy as np\n",
    "rng = np.random.RandomState(45)"
   ]
  },
  {
   "cell_type": "code",
   "execution_count": null,
   "id": "fd383cbf",
   "metadata": {},
   "outputs": [],
   "source": [
    "10 * rng.uniform(0, 1)"
   ]
  },
  {
   "cell_type": "code",
   "execution_count": null,
   "id": "69a3087e",
   "metadata": {},
   "outputs": [],
   "source": [
    "(img * 20).max()"
   ]
  },
  {
   "cell_type": "code",
   "execution_count": null,
   "id": "5acbb410",
   "metadata": {},
   "outputs": [],
   "source": []
  }
 ],
 "metadata": {
  "kernelspec": {
   "display_name": "Python 3 (ipykernel)",
   "language": "python",
   "name": "python3"
  },
  "language_info": {
   "codemirror_mode": {
    "name": "ipython",
    "version": 3
   },
   "file_extension": ".py",
   "mimetype": "text/x-python",
   "name": "python",
   "nbconvert_exporter": "python",
   "pygments_lexer": "ipython3",
   "version": "3.9.13"
  }
 },
 "nbformat": 4,
 "nbformat_minor": 5
}
